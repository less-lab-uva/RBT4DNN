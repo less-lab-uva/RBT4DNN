{
 "cells": [
  {
   "cell_type": "code",
   "execution_count": 1,
   "metadata": {},
   "outputs": [],
   "source": [
    "import pandas as pd\n",
    "import json\n",
    "import pickle"
   ]
  },
  {
   "cell_type": "code",
   "execution_count": null,
   "metadata": {},
   "outputs": [],
   "source": [
    "# # Load the data from pickle\n",
    "# with open('rq1_new_img_paths.pkl', 'rb') as f:\n",
    "#     data = pickle.load(f)\n",
    "# # Load the data from pickle\n",
    "# with open('rq1_new_img_paths_nobn.pkl', 'rb') as f:\n",
    "#     data = pickle.load(f)\n",
    "# Load the data from pickle\n",
    "with open('rq1_sgsm_fulldata.pkl', 'rb') as f:\n",
    "    data = pickle.load(f)\n",
    "\n",
    "# # Load the data from json\n",
    "# with open('rq1_new.json', 'r') as f:\n",
    "#     data = json.load(f)"
   ]
  },
  {
   "cell_type": "code",
   "execution_count": 5,
   "metadata": {},
   "outputs": [
    {
     "data": {
      "text/plain": [
       "dict_keys(['test_pred', 'test_image_paths', 'test_labels', 'gen_pred', 'gen_image_paths'])"
      ]
     },
     "execution_count": 5,
     "metadata": {},
     "output_type": "execute_result"
    }
   ],
   "source": [
    "# data['r1'].keys()\n",
    "data['r1']['f1'].keys()"
   ]
  },
  {
   "cell_type": "code",
   "execution_count": 8,
   "metadata": {},
   "outputs": [
    {
     "name": "stdout",
     "output_type": "stream",
     "text": [
      "0.9090909090909091\n"
     ]
    }
   ],
   "source": [
    "correct = 0\n",
    "for pred, label in zip(data['r1']['f1']['test_pred'], data['r1']['f1']['test_labels']):\n",
    "    if pred == label:\n",
    "        correct += 1\n",
    "print(correct / len(data['r1']['f1']['test_pred']))"
   ]
  },
  {
   "cell_type": "code",
   "execution_count": null,
   "metadata": {},
   "outputs": [],
   "source": [
    "data['r1']['f1']['test_image_paths']"
   ]
  },
  {
   "cell_type": "code",
   "execution_count": 30,
   "metadata": {},
   "outputs": [
    {
     "data": {
      "text/plain": [
       "73"
      ]
     },
     "execution_count": 30,
     "metadata": {},
     "output_type": "execute_result"
    }
   ],
   "source": [
    "data['r3']['req_test_labels'].count(1)\n",
    "# data['r3']['f1']['test_pred'].count(1)"
   ]
  },
  {
   "cell_type": "code",
   "execution_count": 4,
   "metadata": {},
   "outputs": [
    {
     "data": {
      "text/plain": [
       "dict_keys(['f1', 'req_test_labels', 'req_test_pred', 'req_acc_gen_epoch_1', 'req_acc_gen_epoch_2', 'req_acc_gen_epoch_3', 'req_acc_gen_epoch_4', 'req_acc_gen_epoch_5', 'req_acc_gen_epoch_6', 'req_acc_gen_epoch_7', 'req_acc_gen_epoch_8', 'req_acc_gen_epoch_9', 'req_acc_gen_epoch_10'])"
      ]
     },
     "execution_count": 4,
     "metadata": {},
     "output_type": "execute_result"
    }
   ],
   "source": [
    "data['r1'].keys()\n",
    "# data['r1']['f1']['gen_image_paths']"
   ]
  },
  {
   "cell_type": "code",
   "execution_count": 15,
   "metadata": {},
   "outputs": [],
   "source": [
    "label = data['r5']['req_acc_gen_epoch_3']\n",
    "image_list = data['r5']['f5a']['gen_image_paths'][2]\n",
    "final_img_list = []\n",
    "lst = []\n",
    "for i in range(len(label)):\n",
    "    if label[i]==1:\n",
    "        lst.append(i)\n",
    "# print(lst)\n",
    "\n",
    "for l in lst:\n",
    "    final_img_list.append(image_list[l])\n",
    "# for i in final_img_list:\n",
    "#     print(i)\n",
    "#     print(\"\\n\")"
   ]
  },
  {
   "cell_type": "code",
   "execution_count": 17,
   "metadata": {},
   "outputs": [
    {
     "data": {
      "text/plain": [
       "77"
      ]
     },
     "execution_count": 17,
     "metadata": {},
     "output_type": "execute_result"
    }
   ],
   "source": [
    "len(final_img_list)"
   ]
  },
  {
   "cell_type": "code",
   "execution_count": null,
   "metadata": {},
   "outputs": [],
   "source": [
    "# [str(img_path) for img_path in data['r3']['f1']['gen_image_paths'][0]]\n",
    "# [str(img_path) for img_path in data['r3']['f3a']['gen_image_paths'][0]]"
   ]
  },
  {
   "cell_type": "code",
   "execution_count": 40,
   "metadata": {},
   "outputs": [],
   "source": [
    "def get_req_acc(pred, labels):\n",
    "    correct = 0\n",
    "    for i in range(len(pred)):\n",
    "        if pred[i] == labels[i]:\n",
    "            correct += 1\n",
    "    return correct / len(pred)"
   ]
  },
  {
   "cell_type": "code",
   "execution_count": 41,
   "metadata": {},
   "outputs": [],
   "source": [
    "def get_gen_req_acc(pred):\n",
    "    correct = pred.count(1)\n",
    "    return correct / len(pred)"
   ]
  },
  {
   "cell_type": "code",
   "execution_count": 42,
   "metadata": {},
   "outputs": [],
   "source": [
    "sgsm_rq1 = {}"
   ]
  },
  {
   "cell_type": "code",
   "execution_count": 48,
   "metadata": {},
   "outputs": [
    {
     "name": "stdout",
     "output_type": "stream",
     "text": [
      "Req1 Accuracy: 0.9090909090909091\n",
      "Req2 Accuracy: 0.9723320158102767\n",
      "Req3 Accuracy: 0.9041095890410958\n",
      "Req4 Accuracy: 0.9712460063897763\n",
      "Req5 Accuracy: 0.9719101123595506\n",
      "Req6 Accuracy: 0.9285714285714286\n",
      "Req7 Accuracy: 0.9814814814814815\n"
     ]
    }
   ],
   "source": [
    "for i in range(1, 8):\n",
    "    sgsm_rq1[f'r{i}'] = {\n",
    "        \"test_data\": [],\n",
    "        \"generated_data\": []\n",
    "    }\n",
    "    sgsm_rq1[f'r{i}'][\"test_data\"].append(get_req_acc(data[f'r{i}']['req_test_pred'], data[f'r{i}']['req_test_labels']))\n",
    "    print(f\"Req{i} Accuracy: {get_req_acc(data[f'r{i}']['req_test_pred'], data[f'r{i}']['req_test_labels'])}\")"
   ]
  },
  {
   "cell_type": "code",
   "execution_count": 49,
   "metadata": {},
   "outputs": [
    {
     "name": "stdout",
     "output_type": "stream",
     "text": [
      "Req1 gen data: 0.71\n",
      "Req1 gen data: 0.74\n",
      "Req1 gen data: 0.73\n",
      "Req1 gen data: 0.72\n",
      "Req1 gen data: 0.77\n",
      "Req1 gen data: 0.85\n",
      "Req1 gen data: 0.81\n",
      "Req1 gen data: 0.74\n",
      "Req1 gen data: 0.77\n",
      "Req1 gen data: 0.76\n",
      "Req2 gen data: 0.83\n",
      "Req2 gen data: 0.84\n",
      "Req2 gen data: 0.86\n",
      "Req2 gen data: 0.82\n",
      "Req2 gen data: 0.81\n",
      "Req2 gen data: 0.86\n",
      "Req2 gen data: 0.85\n",
      "Req2 gen data: 0.86\n",
      "Req2 gen data: 0.9\n",
      "Req2 gen data: 0.87\n",
      "Req3 gen data: 0.83\n",
      "Req3 gen data: 0.78\n",
      "Req3 gen data: 0.79\n",
      "Req3 gen data: 0.85\n",
      "Req3 gen data: 0.78\n",
      "Req3 gen data: 0.74\n",
      "Req3 gen data: 0.79\n",
      "Req3 gen data: 0.75\n",
      "Req3 gen data: 0.79\n",
      "Req3 gen data: 0.73\n",
      "Req4 gen data: 0.84\n",
      "Req4 gen data: 0.79\n",
      "Req4 gen data: 0.92\n",
      "Req4 gen data: 0.84\n",
      "Req4 gen data: 0.84\n",
      "Req4 gen data: 0.89\n",
      "Req4 gen data: 0.88\n",
      "Req4 gen data: 0.93\n",
      "Req4 gen data: 0.77\n",
      "Req4 gen data: 0.84\n",
      "Req5 gen data: 0.78\n",
      "Req5 gen data: 0.75\n",
      "Req5 gen data: 0.77\n",
      "Req5 gen data: 0.79\n",
      "Req5 gen data: 0.69\n",
      "Req5 gen data: 0.65\n",
      "Req5 gen data: 0.77\n",
      "Req5 gen data: 0.74\n",
      "Req5 gen data: 0.73\n",
      "Req5 gen data: 0.74\n",
      "Req6 gen data: 0.97\n",
      "Req6 gen data: 0.96\n",
      "Req6 gen data: 0.96\n",
      "Req6 gen data: 0.92\n",
      "Req6 gen data: 0.96\n",
      "Req6 gen data: 0.93\n",
      "Req6 gen data: 0.91\n",
      "Req6 gen data: 0.95\n",
      "Req6 gen data: 0.95\n",
      "Req6 gen data: 0.94\n",
      "Req7 gen data: 0.77\n",
      "Req7 gen data: 0.87\n",
      "Req7 gen data: 0.84\n",
      "Req7 gen data: 0.9\n",
      "Req7 gen data: 0.81\n",
      "Req7 gen data: 0.89\n",
      "Req7 gen data: 0.82\n",
      "Req7 gen data: 0.86\n",
      "Req7 gen data: 0.76\n",
      "Req7 gen data: 0.78\n"
     ]
    }
   ],
   "source": [
    "for i in range(1, 8):\n",
    "    # print(f\"Req{i} gen data: {get_gen_req_acc(data[f'r{i}']['req_acc_gen'])}\")\n",
    "    for epoch in range(1, 11):\n",
    "        sgsm_rq1[f'r{i}'][\"generated_data\"].append(get_gen_req_acc(data[f'r{i}'][f'req_acc_gen_epoch_{epoch}']))\n",
    "        print(f\"Req{i} gen data: {get_gen_req_acc(data[f'r{i}'][f'req_acc_gen_epoch_{epoch}'])}\")"
   ]
  },
  {
   "cell_type": "code",
   "execution_count": 50,
   "metadata": {},
   "outputs": [
    {
     "data": {
      "text/plain": [
       "{'r1': {'test_data': [0.9090909090909091],\n",
       "  'generated_data': [0.71,\n",
       "   0.74,\n",
       "   0.73,\n",
       "   0.72,\n",
       "   0.77,\n",
       "   0.85,\n",
       "   0.81,\n",
       "   0.74,\n",
       "   0.77,\n",
       "   0.76]},\n",
       " 'r2': {'test_data': [0.9723320158102767],\n",
       "  'generated_data': [0.83,\n",
       "   0.84,\n",
       "   0.86,\n",
       "   0.82,\n",
       "   0.81,\n",
       "   0.86,\n",
       "   0.85,\n",
       "   0.86,\n",
       "   0.9,\n",
       "   0.87]},\n",
       " 'r3': {'test_data': [0.9041095890410958],\n",
       "  'generated_data': [0.83,\n",
       "   0.78,\n",
       "   0.79,\n",
       "   0.85,\n",
       "   0.78,\n",
       "   0.74,\n",
       "   0.79,\n",
       "   0.75,\n",
       "   0.79,\n",
       "   0.73]},\n",
       " 'r4': {'test_data': [0.9712460063897763],\n",
       "  'generated_data': [0.84,\n",
       "   0.79,\n",
       "   0.92,\n",
       "   0.84,\n",
       "   0.84,\n",
       "   0.89,\n",
       "   0.88,\n",
       "   0.93,\n",
       "   0.77,\n",
       "   0.84]},\n",
       " 'r5': {'test_data': [0.9719101123595506],\n",
       "  'generated_data': [0.78,\n",
       "   0.75,\n",
       "   0.77,\n",
       "   0.79,\n",
       "   0.69,\n",
       "   0.65,\n",
       "   0.77,\n",
       "   0.74,\n",
       "   0.73,\n",
       "   0.74]},\n",
       " 'r6': {'test_data': [0.9285714285714286],\n",
       "  'generated_data': [0.97,\n",
       "   0.96,\n",
       "   0.96,\n",
       "   0.92,\n",
       "   0.96,\n",
       "   0.93,\n",
       "   0.91,\n",
       "   0.95,\n",
       "   0.95,\n",
       "   0.94]},\n",
       " 'r7': {'test_data': [0.9814814814814815],\n",
       "  'generated_data': [0.77,\n",
       "   0.87,\n",
       "   0.84,\n",
       "   0.9,\n",
       "   0.81,\n",
       "   0.89,\n",
       "   0.82,\n",
       "   0.86,\n",
       "   0.76,\n",
       "   0.78]}}"
      ]
     },
     "execution_count": 50,
     "metadata": {},
     "output_type": "execute_result"
    }
   ],
   "source": [
    "sgsm_rq1"
   ]
  },
  {
   "cell_type": "code",
   "execution_count": 51,
   "metadata": {},
   "outputs": [],
   "source": [
    "# # Save the data to json\n",
    "# with open('rq1_sgsm.json', 'w') as f:\n",
    "#     json.dump(sgsm_rq1, f)\n",
    "# # Save the data to json\n",
    "# with open('rq1_sgsm_nobn.json', 'w') as f:\n",
    "#     json.dump(sgsm_rq1, f)\n",
    "# Save the data to json\n",
    "with open('rq1_sgsm.json', 'w') as f:\n",
    "    json.dump(sgsm_rq1, f)"
   ]
  },
  {
   "cell_type": "code",
   "execution_count": null,
   "metadata": {},
   "outputs": [],
   "source": []
  }
 ],
 "metadata": {
  "kernelspec": {
   "display_name": "Python 3",
   "language": "python",
   "name": "python3"
  },
  "language_info": {
   "codemirror_mode": {
    "name": "ipython",
    "version": 3
   },
   "file_extension": ".py",
   "mimetype": "text/x-python",
   "name": "python",
   "nbconvert_exporter": "python",
   "pygments_lexer": "ipython3",
   "version": "3.7.16"
  }
 },
 "nbformat": 4,
 "nbformat_minor": 2
}
