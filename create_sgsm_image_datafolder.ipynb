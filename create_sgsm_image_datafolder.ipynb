{
 "cells": [
  {
   "cell_type": "code",
   "execution_count": 1,
   "metadata": {},
   "outputs": [],
   "source": [
    "import json\n",
    "import matplotlib.pyplot as plt\n",
    "import os\n",
    "import shutil\n",
    "from PIL import Image"
   ]
  },
  {
   "cell_type": "code",
   "execution_count": null,
   "metadata": {},
   "outputs": [],
   "source": [
    "def plot_image(img_path):\n",
    "    img = Image.open(img_path)\n",
    "    fig, ax = plt.subplots(figsize=(15, 5))\n",
    "    ax.imshow(img)\n",
    "    plt.axis('off')"
   ]
  },
  {
   "cell_type": "code",
   "execution_count": 3,
   "metadata": {},
   "outputs": [],
   "source": [
    "# Specify the path to the JSON file\n",
    "file_path = 'data/SGSM/pre_conditions.json'\n",
    "\n",
    "# Open the JSON file and load its contents\n",
    "with open(file_path, 'r') as file:\n",
    "    data = json.load(file)"
   ]
  },
  {
   "cell_type": "code",
   "execution_count": null,
   "metadata": {},
   "outputs": [],
   "source": [
    "data[0]"
   ]
  },
  {
   "cell_type": "code",
   "execution_count": 7,
   "metadata": {},
   "outputs": [
    {
     "name": "stdout",
     "output_type": "stream",
     "text": [
      "There are 222 images with ego lane controlled by yellow/red traffic light\n"
     ]
    }
   ],
   "source": [
    "# Vehicle within 10 meters, in the same lane and in front of (R1)\n",
    "r1 = []\n",
    "for d in data:\n",
    "    k = list(d.keys())[0]\n",
    "    for entity, relationships in d[k][\"non_ego_entities\"].items():\n",
    "        pa = (relationships['lessThan4m'] or relationships['4to7m'] or relationships['7to10m'])\n",
    "        pb = relationships['inFrontOf']\n",
    "        pc = relationships['inEgoLane']\n",
    "        if pa and pb and pc:\n",
    "            r1.append(k)\n",
    "            break\n",
    "print(f\"There are {len(r1)} images with ego lane controlled by yellow/red traffic light\")"
   ]
  },
  {
   "cell_type": "code",
   "execution_count": 8,
   "metadata": {},
   "outputs": [
    {
     "name": "stdout",
     "output_type": "stream",
     "text": [
      "There are 5068 images with ego lane controlled by yellow/red traffic light\n"
     ]
    }
   ],
   "source": [
    "# Ego lane controlled by yellow/red light (R2)\n",
    "r2 = []\n",
    "for d in data:\n",
    "    k = list(d.keys())[0]\n",
    "    pa = d[k]['egoLaneRed'] or d[k]['egoLaneYellow']\n",
    "    if pa:\n",
    "        r2.append(k)\n",
    "print(f\"There are {len(r2)} images with ego lane controlled by yellow/red traffic light\")"
   ]
  },
  {
   "cell_type": "code",
   "execution_count": null,
   "metadata": {},
   "outputs": [
    {
     "name": "stdout",
     "output_type": "stream",
     "text": [
      "There are 115 images with ego lane controlled by a green traffic light and no entity is in front and in the same lane and within 10 meters\n"
     ]
    }
   ],
   "source": [
    "# Ego lane is controlled by a green light and no entity is in front and in the same lane and within 10 meters (R3)\n",
    "r3 = []\n",
    "for d in data:\n",
    "    k = list(d.keys())[0]\n",
    "    pa = d[k]['egoLaneGreen']\n",
    "    for entity, relationships in d[k][\"non_ego_entities\"].items():\n",
    "        pb = not relationships['inFrontOf']\n",
    "        pc = not relationships['inEgoLane']\n",
    "        pd = not (relationships['lessThan4m'] or relationships['4to7m'] or relationships['7to10m'])\n",
    "        if pa and pb and pc and pd:\n",
    "            r3.append(k)\n",
    "            break\n",
    "print(f\"There are {len(r3)} images with ego lane controlled by a green traffic light and no entity is in front and in the same lane and within 10 meters\")"
   ]
  },
  {
   "cell_type": "code",
   "execution_count": null,
   "metadata": {},
   "outputs": [
    {
     "name": "stdout",
     "output_type": "stream",
     "text": [
      "There are 178 images with ego lane controlled by a green traffic light and no entity is in front and in the same lane and within 10 meters\n"
     ]
    }
   ],
   "source": [
    "# # Ego lane is controlled by a green light and no entity is in front and in the same lane and within 10 meters (R3)\n",
    "# r3 = []\n",
    "# for d in data:\n",
    "#     k = list(d.keys())[0]\n",
    "#     pa = d[k]['egoLaneGreen']\n",
    "#     append = True\n",
    "#     for entity, relationships in d[k][\"non_ego_entities\"].items():\n",
    "#         pb = relationships['inFrontOf']\n",
    "#         pc = relationships['inEgoLane']\n",
    "#         pd = not (relationships['lessThan4m'] or relationships['4to7m'] or relationships['7to10m'] or relationships['16to25m'])\n",
    "#         if pb or pc or pd:\n",
    "#             append = False\n",
    "#             break\n",
    "#     if pa and append:\n",
    "#         r3.append(k)\n",
    "    \n",
    "# print(f\"There are {len(r3)} images with ego lane controlled by a green traffic light and no entity is in front and in the same lane and within 10 meters\")"
   ]
  },
  {
   "cell_type": "code",
   "execution_count": 96,
   "metadata": {},
   "outputs": [
    {
     "name": "stdout",
     "output_type": "stream",
     "text": [
      "There are 3130 images with ego vehicle in the rightmost lane and not in a junction\n"
     ]
    }
   ],
   "source": [
    "# Ego vehicle in the rightmost lane and not in a junction (R4)\n",
    "r4 = []\n",
    "for d in data:\n",
    "    k = list(d.keys())[0]\n",
    "    pa = d[k]['egoInRightmost']\n",
    "    pb = not d[k]['egoInJunction']\n",
    "    if pa and pb:\n",
    "        r4.append(k)\n",
    "print(f\"There are {len(r4)} images with ego vehicle in the rightmost lane and not in a junction\")"
   ]
  },
  {
   "cell_type": "code",
   "execution_count": 97,
   "metadata": {},
   "outputs": [
    {
     "name": "stdout",
     "output_type": "stream",
     "text": [
      "There are 5347 images with ego vehicle in the leftmost lane and not in a junction\n"
     ]
    }
   ],
   "source": [
    "# Ego vehicle in the leftmost lane and not in a junction (R5)\n",
    "r5 = []\n",
    "for d in data:\n",
    "    k = list(d.keys())[0]\n",
    "    pa = d[k]['egoInLeftmost']\n",
    "    pb = not d[k]['egoInJunction']\n",
    "    if pa and pb:\n",
    "        r5.append(k)\n",
    "print(f\"There are {len(r5)} images with ego vehicle in the leftmost lane and not in a junction\")"
   ]
  },
  {
   "cell_type": "code",
   "execution_count": 118,
   "metadata": {},
   "outputs": [
    {
     "name": "stdout",
     "output_type": "stream",
     "text": [
      "There are 147 images with vehicle in the lane to the left and within 7 meters\n"
     ]
    }
   ],
   "source": [
    "# Vehicle in the lane to the left and within 7 meters (R6)\n",
    "r6 = []\n",
    "for d in data:\n",
    "    k = list(d.keys())[0]\n",
    "    for entity, relationships in d[k][\"non_ego_entities\"].items():\n",
    "        pa = relationships['inLaneToLeft']\n",
    "        pb = relationships['inFrontOf']\n",
    "        pc = relationships['4to7m']\n",
    "        if pa and pb and pc:\n",
    "            r6.append(k)\n",
    "            break\n",
    "print(f\"There are {len(r6)} images with vehicle in the lane to the left and within 7 meters\")"
   ]
  },
  {
   "cell_type": "code",
   "execution_count": 119,
   "metadata": {},
   "outputs": [
    {
     "name": "stdout",
     "output_type": "stream",
     "text": [
      "There are 543 images with vehicle in the lane to the right and within 7 meters\n"
     ]
    }
   ],
   "source": [
    "# Vehicle in the lane to the right and within 7 meters (R6)\n",
    "r7 = []\n",
    "for d in data:\n",
    "    k = list(d.keys())[0]\n",
    "    for entity, relationships in d[k][\"non_ego_entities\"].items():\n",
    "        pa = relationships['inLaneToRight']\n",
    "        pb = relationships['inFrontOf']\n",
    "        pc = relationships['4to7m']\n",
    "        if pa and pb and pc:\n",
    "            r7.append(k)\n",
    "            break\n",
    "print(f\"There are {len(r7)} images with vehicle in the lane to the right and within 7 meters\")"
   ]
  },
  {
   "cell_type": "code",
   "execution_count": 6,
   "metadata": {},
   "outputs": [],
   "source": [
    "def create_folder_with_sm_links(r_name, r_list, prompt):\n",
    "    output_path = f'data/SGSM/all_generated_data/{r_name}\n",
    "    if not os.path.exists(output_path):\n",
    "        os.makedirs(output_path)\n",
    "\n",
    "    for ip in r_list:\n",
    "        routen = ip.split(\"RouteScenario_\")[1].split(\"/\")[0]\n",
    "        iname = f\"r{routen}_{ip.split('/')[-1]}\"\n",
    "        cp = ip.replace('/images/', '/captions/').replace(\".jpg\", \".jpg.text\")\n",
    "        cname = iname.replace(\".jpg\", \".txt\")\n",
    "\n",
    "        img_target_path = os.path.join(output_path, iname)\n",
    "        os.symlink(ip, img_target_path)\n",
    "\n",
    "        cap_target_path = os.path.join(output_path, cname)\n",
    "        with open(cap_target_path, 'w') as file:\n",
    "            file.write(prompt)"
   ]
  },
  {
   "cell_type": "code",
   "execution_count": 109,
   "metadata": {},
   "outputs": [],
   "source": [
    "create_folder_with_sm_links(\"r1_data\", r1, \"C4RL4. Vehicle within 10 meters, in the same lane and in front of (R1)\")"
   ]
  },
  {
   "cell_type": "code",
   "execution_count": 110,
   "metadata": {},
   "outputs": [],
   "source": [
    "create_folder_with_sm_links(\"r2_data\", r2, \"C4RL4. Ego lane controlled by yellow/red traffic light (R2)\")"
   ]
  },
  {
   "cell_type": "code",
   "execution_count": 24,
   "metadata": {},
   "outputs": [],
   "source": [
    "# create_folder_with_sm_links(\"r3_data\", r3, \"C4RL4. Ego lane is controlled by a green traffic light and no entity is in front and in the same lane and within 10 meters (R3)\")\n",
    "create_folder_with_sm_links(\"r3_data_new\", r3, \"C4RL4. Ego lane is controlled by a green traffic light and no entity is in front and in the same lane and within 10 meters (R3)\")"
   ]
  },
  {
   "cell_type": "code",
   "execution_count": 122,
   "metadata": {},
   "outputs": [],
   "source": [
    "create_folder_with_sm_links(\"r4_data\", r4, \"C4RL4. Ego vehicle in the rightmost lane and not in a junction (R4)\")"
   ]
  },
  {
   "cell_type": "code",
   "execution_count": 123,
   "metadata": {},
   "outputs": [],
   "source": [
    "create_folder_with_sm_links(\"r5_data\", r5, \"C4RL4. Ego vehicle in the leftmost lane and not in a junction (R5)\")"
   ]
  },
  {
   "cell_type": "code",
   "execution_count": 124,
   "metadata": {},
   "outputs": [],
   "source": [
    "create_folder_with_sm_links(\"r6_data\", r6, \"C4RL4. Vehicle in the lane to the left and within 7 meters (R6)\")"
   ]
  },
  {
   "cell_type": "code",
   "execution_count": 125,
   "metadata": {},
   "outputs": [],
   "source": [
    "create_folder_with_sm_links(\"r7_data\", r7, \"C4RL4. Vehicle in the lane to the right and within 7 meters (R7)\")"
   ]
  },
  {
   "cell_type": "markdown",
   "metadata": {},
   "source": [
    "# Create data folders from Pandas df"
   ]
  },
  {
   "cell_type": "code",
   "execution_count": 29,
   "metadata": {},
   "outputs": [],
   "source": [
    "import pandas as pd"
   ]
  },
  {
   "cell_type": "code",
   "execution_count": 30,
   "metadata": {},
   "outputs": [],
   "source": [
    "df = pd.read_csv(\"data/SGSM/sgsm_features_dataset.csv\")"
   ]
  },
  {
   "cell_type": "code",
   "execution_count": 31,
   "metadata": {},
   "outputs": [],
   "source": [
    "r1 = list(df[(df['f1'] == 1)].images)\n",
    "create_folder_with_sm_links(\"r1_data\", r1, \"C4RL4. Vehicle within 10 meters, in the same lane and in front of (R1)\")\n",
    "r2 = list(df[(df['f2'] == 1)].images)\n",
    "create_folder_with_sm_links(\"r2_data\", r2, \"C4RL4. Ego lane controlled by yellow/red traffic light (R2)\")\n",
    "r3 = list(df[(df['f3a'] == 1) & (df['f3b'] == 1)].images)\n",
    "create_folder_with_sm_links(\"r3_data\", r3, \"C4RL4. Ego lane is controlled by a green traffic light and no entity is in front and in the same lane and within 10 meters (R3)\")\n",
    "r4 = list(df[(df['f4a'] == 1) & (df['f4b'] == 1)].images)\n",
    "create_folder_with_sm_links(\"r4_data\", r4, \"C4RL4. Ego vehicle in the rightmost lane and not in a junction (R4)\")\n",
    "r5 = list(df[(df['f5a'] == 1) & (df['f5b'] == 1)].images)\n",
    "create_folder_with_sm_links(\"r5_data\", r5, \"C4RL4. Ego vehicle in the leftmost lane and not in a junction (R5)\")\n",
    "r6 = list(df[(df['f6'] == 1)].images)\n",
    "create_folder_with_sm_links(\"r6_data\", r6, \"C4RL4. Vehicle in the lane to the left and within 7 meters (R6)\")\n",
    "r7 = list(df[(df['f7'] == 1)].images)\n",
    "create_folder_with_sm_links(\"r7_data\", r7, \"C4RL4. Vehicle in the lane to the right and within 7 meters (R7)\")"
   ]
  },
  {
   "cell_type": "code",
   "execution_count": null,
   "metadata": {},
   "outputs": [],
   "source": []
  }
 ],
 "metadata": {
  "kernelspec": {
   "display_name": "Python 3",
   "language": "python",
   "name": "python3"
  },
  "language_info": {
   "codemirror_mode": {
    "name": "ipython",
    "version": 3
   },
   "file_extension": ".py",
   "mimetype": "text/x-python",
   "name": "python",
   "nbconvert_exporter": "python",
   "pygments_lexer": "ipython3",
   "version": "3.7.16"
  }
 },
 "nbformat": 4,
 "nbformat_minor": 2
}
